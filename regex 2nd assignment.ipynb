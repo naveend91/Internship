{
 "cells": [
  {
   "cell_type": "code",
   "execution_count": 1,
   "id": "46b9a66b",
   "metadata": {},
   "outputs": [],
   "source": [
    "import regex as re"
   ]
  },
  {
   "cell_type": "code",
   "execution_count": 320,
   "id": "5ea086f3",
   "metadata": {},
   "outputs": [
    {
     "name": "stdout",
     "output_type": "stream",
     "text": [
      "Python:Exercises::PHP:exercises:\n"
     ]
    }
   ],
   "source": [
    "#ans 1\n",
    "Sample= 'Python Exercises, PHP exercises.'\n",
    "xcv=re.sub('[ ,.]',':',Sample)\n",
    "print(xcv)\n"
   ]
  },
  {
   "cell_type": "code",
   "execution_count": 321,
   "id": "c80f23dc",
   "metadata": {},
   "outputs": [
    {
     "name": "stdout",
     "output_type": "stream",
     "text": [
      "['ercises', 'exercises']\n"
     ]
    }
   ],
   "source": [
    "#ans 2\n",
    "xx=Sample= 'Python Exercises, PHP exercises.'\n",
    "zzz=re.findall('[ae]\\w+',xx)\n",
    "print(zzz)"
   ]
  },
  {
   "cell_type": "code",
   "execution_count": 328,
   "id": "7ddfc60b",
   "metadata": {},
   "outputs": [
    {
     "name": "stdout",
     "output_type": "stream",
     "text": [
      "['rohit', 'sharma', 'scored', 'centuries', 'halfcenturis', 'cricket', 'career']\n"
     ]
    }
   ],
   "source": [
    "#ans3\n",
    "x=('rohit sharma has scored 43 centuries and 91 halfcenturis in his cricket career')\n",
    "y=re.compile(r'\\b\\w{4,}\\b')\n",
    "z=y.findall(x)\n",
    "print(z)"
   ]
  },
  {
   "cell_type": "code",
   "execution_count": 329,
   "id": "969725dc",
   "metadata": {},
   "outputs": [
    {
     "name": "stdout",
     "output_type": "stream",
     "text": [
      "['rohi', 'shar', 'has', 'scor', 'cent', 'urie', 'and', 'half', 'cent', 'uris', 'his', 'cric', 'ket', 'care']\n"
     ]
    }
   ],
   "source": [
    "# ans 4\n",
    "target='rohit sharma has scored 43 centuries and 91 halfcenturis in his cricket career'\n",
    "pattern = re.compile(r'\\w{4}|\\w{5}|\\w{3}')\n",
    "z=pattern.findall(target)\n",
    "print(z)\n"
   ]
  },
  {
   "cell_type": "code",
   "execution_count": 333,
   "id": "8c4baf05",
   "metadata": {},
   "outputs": [
    {
     "name": "stdout",
     "output_type": "stream",
     "text": [
      "example .com\n",
      "hr@fliprobo .com\n",
      "github .com\n",
      "Hello Data Science World\n",
      "Data Scientist\n"
     ]
    }
   ],
   "source": [
    "#ans 5\n",
    "string= [\"example (.com)\", \"hr@fliprobo (.com)\", \"github (.com)\", \"Hello (Data Science World)\", \"Data (Scientist)\"]\n",
    "pattern=re.compile(r'[()]')\n",
    "for string in string_list:\n",
    "    print(pattern.sub('',string))\n"
   ]
  },
  {
   "cell_type": "code",
   "execution_count": 340,
   "id": "78bc45f1",
   "metadata": {},
   "outputs": [
    {
     "name": "stdout",
     "output_type": "stream",
     "text": [
      " [\"example \", \"hr@fliprobo \", \"github \", \"Hello \", \"Data \"]\n"
     ]
    }
   ],
   "source": [
    "#ans  6\n",
    "with open(r'C:\\Users\\91903\\Desktop\\experiment\\remove paranthesis.txt')as file:\n",
    "    for line in file:\n",
    "        urk = re.sub(r'\\([^()]*\\)', '', line)\n",
    "        print(urk)\n"
   ]
  },
  {
   "cell_type": "code",
   "execution_count": 82,
   "id": "c91ff2cb",
   "metadata": {},
   "outputs": [
    {
     "name": "stdout",
     "output_type": "stream",
     "text": [
      "['Importance', 'Of', 'Regular', 'Expressions', 'In', 'Python']\n"
     ]
    }
   ],
   "source": [
    "# Ans 7\n",
    "text= ('ImportanceOfRegularExpressionsInPython')\n",
    "pattern=(re.findall('[A-Z][^A-Z]*', text))\n",
    "print(pattern)"
   ]
  },
  {
   "cell_type": "code",
   "execution_count": 114,
   "id": "2bd38914",
   "metadata": {},
   "outputs": [
    {
     "name": "stdout",
     "output_type": "stream",
     "text": [
      "RegularExpression 1 IsAn  2 ImportantTopic  3 InPython \n"
     ]
    }
   ],
   "source": [
    "# ans 8\n",
    "x=('RegularExpression1IsAn2ImportantTopic3InPython')\n",
    "y= r'(\\d+)([A-Za-z]+)'\n",
    "z=re.sub(y, r' \\1 \\2 ', x)\n",
    "print(z)\n"
   ]
  },
  {
   "cell_type": "code",
   "execution_count": 121,
   "id": "371be374",
   "metadata": {},
   "outputs": [
    {
     "name": "stdout",
     "output_type": "stream",
     "text": [
      "Regular Expression1 Is An2 Important Topic3 In Python\n"
     ]
    }
   ],
   "source": [
    "#ans 9\n",
    "x=('RegularExpression1IsAn2ImportantTopic3InPython')\n",
    "y= re.sub(r\"(\\w)([A-Z])\", r\"\\1 \\2\",x)\n",
    "print(y)"
   ]
  },
  {
   "cell_type": "code",
   "execution_count": 131,
   "id": "19bd29ea",
   "metadata": {},
   "outputs": [
    {
     "name": "stdout",
     "output_type": "stream",
     "text": [
      "['xyz@domain.com', 'xyz.abc@sdomain.domain.com', 'hr@fliprobo.com']\n"
     ]
    }
   ],
   "source": [
    "# ans 10 with out text file\n",
    "x=('Hello my name is Data Science and my email address is xyz@domain.com and alternate email address is xyz.abc@sdomain.domain.com' \n",
    "'Please contact us at hr@fliprobo.com for further information')\n",
    "y = re.findall(r\"[a-z0-9\\.\\-+_]+@[a-z0-9\\.\\-+_]+\\.[a-z]+\",x)\n",
    "print(y)"
   ]
  },
  {
   "cell_type": "code",
   "execution_count": 155,
   "id": "0a1c0c62",
   "metadata": {},
   "outputs": [
    {
     "name": "stdout",
     "output_type": "stream",
     "text": [
      "['xyz@domain.com', 'xyz.abc@sdomain.domain.com']\n",
      "['hr@fliprobo.com']\n"
     ]
    }
   ],
   "source": [
    "# ans 10 with text file \n",
    "with open(r\"C:\\Users\\91903\\Desktop\\experiment\\url ext.txt\") as file:\n",
    "    for line in file:\n",
    "        pattern='[a-zA-Z0-9._%+-]+@[a-zA-Z0-9.-]+\\.[a-zA-Z]{2,}'\n",
    "        urls=re.findall(pattern,line)\n",
    "        print(urls)"
   ]
  },
  {
   "cell_type": "code",
   "execution_count": 177,
   "id": "ebe06051",
   "metadata": {},
   "outputs": [
    {
     "name": "stdout",
     "output_type": "stream",
     "text": [
      "<re.Match object; span=(0, 12), match='The123_World'>\n"
     ]
    }
   ],
   "source": [
    "#ans 11\n",
    "string= ('The123_World')\n",
    "pattern =(r'^[a-zA-Z0-9_]+$')\n",
    "y=re.match(pattern,string)\n",
    "print(y)"
   ]
  },
  {
   "cell_type": "code",
   "execution_count": 194,
   "id": "b31e59e9",
   "metadata": {},
   "outputs": [
    {
     "name": "stdout",
     "output_type": "stream",
     "text": [
      "correct\n"
     ]
    }
   ],
   "source": [
    "#ans 12\n",
    "def start(string, number):\n",
    "    if string.startswith(str(number)):\n",
    "        return True\n",
    "    else:\n",
    "        return False\n",
    "\n",
    "string = \"233bold\"\n",
    "number = 233\n",
    "\n",
    "if start(string, number):\n",
    "         print(\"correct\")\n",
    "else:\n",
    "        print(\"not matched\")"
   ]
  },
  {
   "cell_type": "code",
   "execution_count": 215,
   "id": "f93a4194",
   "metadata": {},
   "outputs": [
    {
     "name": "stdout",
     "output_type": "stream",
     "text": [
      "234.199.3.9\n",
      "1000.2103.8.9\n"
     ]
    }
   ],
   "source": [
    "#ans 13\n",
    "\n",
    "def remove(ip):\n",
    "    y = \".\".join([str(int(i)) for i in ip.split(\".\")])  \n",
    "    return y ;\n",
    "\n",
    "print(remove(\"234.199.03.09\"))\n",
    "print(remove(\"1000.2103.08.09 \"))\n"
   ]
  },
  {
   "cell_type": "code",
   "execution_count": 220,
   "id": "4f529921",
   "metadata": {},
   "outputs": [
    {
     "name": "stdout",
     "output_type": "stream",
     "text": [
      "August 15th 1947\n"
     ]
    }
   ],
   "source": [
    "# ans 14\n",
    "with open (r'C:\\Users\\91903\\Desktop\\experiment\\ans 14.txt') as file:\n",
    "    for line in file :\n",
    "        y = r\"\\b([A-Z][a-z]+ \\d{1,2}(?:st|nd|rd|th)? \\d{4})\\b\"\n",
    "        matches = re.findall(y, x)\n",
    "        date = matches[0] if matches else None\n",
    "        print(date)\n"
   ]
  },
  {
   "cell_type": "code",
   "execution_count": 245,
   "id": "711562b4",
   "metadata": {},
   "outputs": [
    {
     "name": "stdout",
     "output_type": "stream",
     "text": [
      "fox The quick brown fox jumps over the lazy dog.\n",
      "Matched\n",
      "dog The quick brown fox jumps over the lazy dog.\n",
      "Matched\n",
      "horse The quick brown fox jumps over the lazy dog.\n",
      "Not Matched\n"
     ]
    }
   ],
   "source": [
    "#ans 15\n",
    "pattern = [ 'fox', 'dog', 'horse' ]\n",
    "text = 'The quick brown fox jumps over the lazy dog.'\n",
    "for i in pattern:\n",
    "    print(i, text)\n",
    "    if re.search(i, text):\n",
    "        print('Matched')\n",
    "    else:\n",
    "        print('Not Matched')"
   ]
  },
  {
   "cell_type": "code",
   "execution_count": 258,
   "id": "30eeab76",
   "metadata": {},
   "outputs": [
    {
     "name": "stdout",
     "output_type": "stream",
     "text": [
      "fox The quick brown fox jumps over the lazy dog. 16 19\n"
     ]
    }
   ],
   "source": [
    "#ans 16\n",
    "pattern = 'fox'\n",
    "text = 'The quick brown fox jumps over the lazy dog.'\n",
    "match = re.search(pattern, text)\n",
    "start = match.start()\n",
    "end = match.end()\n",
    "print (match.re.pattern, match.string, start, end)\n"
   ]
  },
  {
   "cell_type": "code",
   "execution_count": 266,
   "id": "b88c5c52",
   "metadata": {},
   "outputs": [
    {
     "name": "stdout",
     "output_type": "stream",
     "text": [
      "['exercises', 'exercises', 'exercises']\n"
     ]
    }
   ],
   "source": [
    "# ans 17\n",
    "x = 'Python exercises, PHP exercises, C# exercises'\n",
    "y = 'exercises'\n",
    "z=re.findall(y,x)\n",
    "print(z)"
   ]
  },
  {
   "cell_type": "code",
   "execution_count": 274,
   "id": "61e0e9f6",
   "metadata": {},
   "outputs": [
    {
     "name": "stdout",
     "output_type": "stream",
     "text": [
      "2023-06-18\n",
      "18-06-2023\n"
     ]
    }
   ],
   "source": [
    "# ans19\n",
    "def change (dt):\n",
    "        return re.sub(r'(\\d{4})-(\\d{1,2})-(\\d{1,2})', '\\\\3-\\\\2-\\\\1', dt)\n",
    "x = \"2023-06-18\"\n",
    "print(x)\n",
    "print(change(x))"
   ]
  },
  {
   "cell_type": "code",
   "execution_count": 275,
   "id": "613b6190",
   "metadata": {},
   "outputs": [
    {
     "name": "stdout",
     "output_type": "stream",
     "text": [
      "['01.12', '0132.12', '2.31', '145.8', '3.01', '27.25', '0.25']\n"
     ]
    }
   ],
   "source": [
    "#ans 20\n",
    "x=\"01.12 0132.123 2.31875 145.8 3.01 27.25 0.25\"\n",
    "pattern = re.compile(r'\\d+\\.\\d{1,2}')\n",
    "decimal = re.findall(pattern, x)\n",
    "print(decimal)"
   ]
  },
  {
   "cell_type": "code",
   "execution_count": 281,
   "id": "ab76a0b9",
   "metadata": {},
   "outputs": [
    {
     "name": "stdout",
     "output_type": "stream",
     "text": [
      "50\n",
      "index: 15\n",
      "90\n",
      "index: 47\n"
     ]
    }
   ],
   "source": [
    "#ans 21\n",
    "x = 'apple price is 50 rs per kg and guava price is 90 rs per kg'\n",
    "\n",
    "for i in re.finditer(\"\\d+\", x):\n",
    "    print(i.group())\n",
    "    print('index:',i.start())"
   ]
  },
  {
   "cell_type": "code",
   "execution_count": 283,
   "id": "5fd0b47b",
   "metadata": {},
   "outputs": [
    {
     "name": "stdout",
     "output_type": "stream",
     "text": [
      "['947', '896', '926', '524', '734', '950', '642']\n",
      "950\n"
     ]
    }
   ],
   "source": [
    "# ans 22\n",
    "x='My marks in each semester are 947, 896, 926, 524, 734, 950, 642'\n",
    "y=re.findall('\\d+',x)\n",
    "print(y)\n",
    "z=map(int,y)\n",
    "print(max(z))\n"
   ]
  },
  {
   "cell_type": "code",
   "execution_count": 284,
   "id": "9193386e",
   "metadata": {},
   "outputs": [
    {
     "name": "stdout",
     "output_type": "stream",
     "text": [
      "Regular Expression Is An Important Topic In Python\n"
     ]
    }
   ],
   "source": [
    "#ans 23\n",
    "x='RegularExpressionIsAnImportantTopicInPython'\n",
    "y = re.findall('[A-Z][a-z]*', string)\n",
    "print(' '.join((words)))\n"
   ]
  },
  {
   "cell_type": "code",
   "execution_count": 295,
   "id": "5f0cbf89",
   "metadata": {},
   "outputs": [
    {
     "name": "stdout",
     "output_type": "stream",
     "text": [
      "['My', 'Sameer', 'Use', 'Learn']\n"
     ]
    }
   ],
   "source": [
    "\n",
    "# ans 24\n",
    "x='My name is Sameer and i Use to Learn pythone'\n",
    "y = r'[A-Z]+[a-z]+'\n",
    "d=re.findall(y, x)\n",
    "print(d) \n"
   ]
  },
  {
   "cell_type": "code",
   "execution_count": 285,
   "id": "e461da17",
   "metadata": {},
   "outputs": [
    {
     "name": "stdout",
     "output_type": "stream",
     "text": [
      "Hello hello world\n"
     ]
    }
   ],
   "source": [
    "#ans 25\n",
    "x= \"Hello hello world world\"\n",
    "regex=r'\\b(\\w+)(?:\\W+\\1\\b)+'\n",
    "y=re.sub(regex,r'\\1',x)\n",
    "print(y)\n"
   ]
  },
  {
   "cell_type": "code",
   "execution_count": 296,
   "id": "381ba2fb",
   "metadata": {},
   "outputs": [
    {
     "name": "stdout",
     "output_type": "stream",
     "text": [
      "<re.Match object; span=(54, 55), match='1'>\n"
     ]
    }
   ],
   "source": [
    "#ans 26\n",
    "x='radha was bon on 21jan 2022 and his mail id is radha431'\n",
    "y=re.search(r\"\\w$\",x)\n",
    "print(y)"
   ]
  },
  {
   "cell_type": "code",
   "execution_count": 299,
   "id": "9a1ff7b9",
   "metadata": {},
   "outputs": [
    {
     "name": "stdout",
     "output_type": "stream",
     "text": [
      "['#Doltiwal', '#xyzabc', '#Demonetization']\n"
     ]
    }
   ],
   "source": [
    "#ans 27\n",
    "x=\"\"\"RT @kapil_kausik: #Doltiwal I mean #xyzabc is \"hurt\" by #Demonetization as the same has rendered USELESS <ed><U+00A0><U+00BD><ed><U+00B1><U+0089> \"acquired funds\" No wo\"\"\"\n",
    "y= re.findall(r'#\\w+', x) \n",
    "print(y)"
   ]
  },
  {
   "cell_type": "code",
   "execution_count": 308,
   "id": "77b4d07f",
   "metadata": {},
   "outputs": [
    {
     "name": "stdout",
     "output_type": "stream",
     "text": [
      "@Jags123456 Bharat band on 28??<ed><ed>Those who  are protesting #demonetization  are all different party leaders\n"
     ]
    }
   ],
   "source": [
    "#ans 28\n",
    "x= \"@Jags123456 Bharat band on 28??<ed><U+00A0><U+00BD><ed><U+00B8><U+0082>Those who  are protesting #demonetization  are all different party leaders\"\n",
    "y=(r\"<U\\+\\w{4}>\")\n",
    "z=re.sub(y,'',x)\n",
    "print(z)"
   ]
  },
  {
   "cell_type": "code",
   "execution_count": 317,
   "id": "ee7606d6",
   "metadata": {},
   "outputs": [
    {
     "name": "stdout",
     "output_type": "stream",
     "text": [
      "12-09-1992\n",
      "15-12-1999\n"
     ]
    }
   ],
   "source": [
    "#ans 29\n",
    "with open(r\"C:\\Users\\91903\\Desktop\\experiment\\date ext.txt\") as file:\n",
    "         x = file.read()\n",
    "pattern = r'\\d{2}-\\d{2}-\\d{4}'\n",
    "dts = re.findall(pattern, text)\n",
    "for dts in dates:\n",
    "     print(dts)"
   ]
  },
  {
   "cell_type": "code",
   "execution_count": 319,
   "id": "46356c2d",
   "metadata": {},
   "outputs": [
    {
     "name": "stdout",
     "output_type": "stream",
     "text": [
      " following example creates ArrayList a capacity elements. 4 elements added ArrayList ArrayList trimmed accordingly.\n"
     ]
    }
   ],
   "source": [
    "#ans 30\n",
    "xx=\"The following example creates an ArrayList with a capacity of 50 elements. 4 elements are then added to the ArrayList and the ArrayList is trimmed accordingly.\"\n",
    "y= re.compile(r'\\W*\\b\\w{2,4}\\b')\n",
    "print(y.sub('',xx))\n"
   ]
  },
  {
   "cell_type": "code",
   "execution_count": null,
   "id": "f128d3c6",
   "metadata": {},
   "outputs": [],
   "source": []
  }
 ],
 "metadata": {
  "kernelspec": {
   "display_name": "Python 3 (ipykernel)",
   "language": "python",
   "name": "python3"
  },
  "language_info": {
   "codemirror_mode": {
    "name": "ipython",
    "version": 3
   },
   "file_extension": ".py",
   "mimetype": "text/x-python",
   "name": "python",
   "nbconvert_exporter": "python",
   "pygments_lexer": "ipython3",
   "version": "3.10.9"
  }
 },
 "nbformat": 4,
 "nbformat_minor": 5
}
